{
 "cells": [
  {
   "cell_type": "code",
   "execution_count": 17,
   "metadata": {},
   "outputs": [
    {
     "name": "stdout",
     "output_type": "stream",
     "text": [
      "25810\n",
      "25810\n",
      "5\n"
     ]
    }
   ],
   "source": [
    "import cv2,glob\n",
    "import os\n",
    "i=0\n",
    "for j in range(1,5):\n",
    "    for img in glob.glob('/home/bhaven/Downloads/dataset/resized_hundred/{}'.format(j)+ \"/*.jpeg\"):\n",
    "        image = cv2.imread(img) \n",
    "        imgSplit = image[:,:,1]\n",
    "        cv2.imwrite('/home/bhaven/Downloads/dataset/resized_green_hundred/{}'.format(j)+\"/green_{}_{}.jpeg\".format(j,i), imgSplit) \n",
    "        i+=1\n",
    "    print(i)\n",
    "    i=0\n",
    "    j+=1\n",
    "print(j)"
   ]
  }
 ],
 "metadata": {
  "kernelspec": {
   "display_name": "Python 3",
   "language": "python",
   "name": "python3"
  },
  "language_info": {
   "codemirror_mode": {
    "name": "ipython",
    "version": 3
   },
   "file_extension": ".py",
   "mimetype": "text/x-python",
   "name": "python",
   "nbconvert_exporter": "python",
   "pygments_lexer": "ipython3",
   "version": "3.7.7"
  }
 },
 "nbformat": 4,
 "nbformat_minor": 4
}
