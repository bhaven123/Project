{
 "cells": [
  {
   "cell_type": "code",
   "execution_count": 94,
   "metadata": {
    "pycharm": {
     "is_executing": false
    }
   },
   "outputs": [],
   "source": [
    "import pandas as pd"
   ]
  },
  {
   "cell_type": "code",
   "execution_count": 95,
   "metadata": {
    "pycharm": {
     "is_executing": false
    }
   },
   "outputs": [],
   "source": [
    "df=pd.read_csv(\"trainLabels.csv\")"
   ]
  },
  {
   "cell_type": "code",
   "execution_count": 96,
   "metadata": {
    "pycharm": {
     "is_executing": false
    }
   },
   "outputs": [
    {
     "data": {
      "text/plain": "0    25810\n2     5292\n1     2443\n3      873\n4      708\nName: level, dtype: int64"
     },
     "metadata": {},
     "output_type": "execute_result",
     "execution_count": 96
    }
   ],
   "source": [
    "df['level'].value_counts()"
   ]
  },
  {
   "cell_type": "code",
   "execution_count": 97,
   "metadata": {
    "pycharm": {
     "is_executing": false,
     "name": "#%%\n"
    }
   },
   "outputs": [
    {
     "data": {
      "text/plain": "['16_left',\n '16_right',\n '217_left',\n '217_right',\n '294_left',\n '294_right',\n '326_left',\n '326_right',\n '367_left',\n '367_right',\n '405_left',\n '405_right',\n '406_left',\n '406_right',\n '439_right',\n '458_right',\n '670_left',\n '670_right',\n '936_left',\n '936_right',\n '986_left',\n '1084_left',\n '1084_right',\n '1099_right',\n '1138_left',\n '1138_right',\n '1350_left',\n '1430_left',\n '1430_right',\n '1663_left',\n '1663_right',\n '1941_left',\n '2016_left',\n '2031_right',\n '2338_left',\n '2338_right',\n '2496_left',\n '2804_left',\n '2804_right',\n '2810_left',\n '2810_right',\n '2880_right',\n '2916_left',\n '2916_right',\n '2970_left',\n '2970_right',\n '3064_left',\n '3064_right',\n '3088_left',\n '3371_left',\n '3371_right',\n '3412_left',\n '3412_right',\n '3418_left',\n '3501_left',\n '3563_left',\n '3563_right',\n '3611_right',\n '3802_left',\n '3802_right',\n '3993_left',\n '3993_right',\n '4005_left',\n '4005_right',\n '4086_left',\n '4086_right',\n '4130_left',\n '4130_right',\n '4155_right',\n '4252_left',\n '4252_right',\n '4374_left',\n '4496_left',\n '4496_right',\n '4531_left',\n '4688_right',\n '4793_left',\n '4909_left',\n '4909_right',\n '5032_left',\n '5032_right',\n '5105_left',\n '5105_right',\n '5258_left',\n '5258_right',\n '5304_right',\n '5825_left',\n '5825_right',\n '5838_left',\n '6017_left',\n '6017_right',\n '6096_left',\n '6096_right',\n '6613_left',\n '6613_right',\n '6707_left',\n '6707_right',\n '6719_left',\n '6719_right',\n '6997_right']"
     },
     "metadata": {},
     "output_type": "execute_result",
     "execution_count": 97
    }
   ],
   "source": [
    "df1=df[df['level']==4].head(100)\n",
    "list1=df1['image'].tolist()\n",
    "list1"
   ]
  },
  {
   "cell_type": "code",
   "execution_count": 98,
   "outputs": [],
   "source": [
    "import shutil\n",
    "i,j=0,0\n",
    "for j in range(0,5):\n",
    "    df1=df[df['level']==j].head(100)\n",
    "    list1=df1['image'].tolist()\n",
    "    \n",
    "    for i in range(0,len(list1)):\n",
    "        str1='E:\\\\Project\\\\Diabetic Retinopathy\\\\train\\\\'+list1[i]+'.jpeg'\n",
    "        str2='E:\\\\Project\\\\Diabetic Retinopathy\\\\Level '+str(j)+' images'\n",
    "        shutil.copy2(str1,str2)\n",
    "        i+=1\n",
    "    j+=1"
   ],
   "metadata": {
    "collapsed": false,
    "pycharm": {
     "name": "#%%\n",
     "is_executing": false
    }
   }
  }
 ],
 "metadata": {
  "kernelspec": {
   "display_name": "Python 3",
   "language": "python",
   "name": "python3"
  },
  "language_info": {
   "codemirror_mode": {
    "name": "ipython",
    "version": 3
   },
   "file_extension": ".py",
   "mimetype": "text/x-python",
   "name": "python",
   "nbconvert_exporter": "python",
   "pygments_lexer": "ipython3",
   "version": "3.7.3"
  },
  "pycharm": {
   "stem_cell": {
    "cell_type": "raw",
    "source": [],
    "metadata": {
     "collapsed": false
    }
   }
  }
 },
 "nbformat": 4,
 "nbformat_minor": 2
}