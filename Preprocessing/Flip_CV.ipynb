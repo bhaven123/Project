{
 "cells": [
  {
   "cell_type": "code",
   "execution_count": 6,
   "metadata": {},
   "outputs": [
    {
     "name": "stdout",
     "output_type": "stream",
     "text": [
      "1714\n"
     ]
    }
   ],
   "source": [
    "import cv2,glob\n",
    "import os\n",
    "i=0\n",
    "for img in glob.glob('/home/bhaven/Downloads/dataset/resized_even_train/4'+ \"/*.jpeg\"):\n",
    "    image = cv2.imread(img) \n",
    "    imgResized = cv2.flip(image, -1)\n",
    "    cv2.imwrite('/home/bhaven/Downloads/dataset/resized_even_train/b4'+\"/both_{}.jpeg\".format(i), imgResized) \n",
    "    i+=1\n",
    "print(i)"
   ]
  }
 ],
 "metadata": {
  "kernelspec": {
   "display_name": "Python 3",
   "language": "python",
   "name": "python3"
  },
  "language_info": {
   "codemirror_mode": {
    "name": "ipython",
    "version": 3
   },
   "file_extension": ".py",
   "mimetype": "text/x-python",
   "name": "python",
   "nbconvert_exporter": "python",
   "pygments_lexer": "ipython3",
   "version": "3.7.6"
  }
 },
 "nbformat": 4,
 "nbformat_minor": 4
}
