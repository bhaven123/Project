{
 "cells": [
  {
   "cell_type": "code",
   "execution_count": 11,
   "metadata": {},
   "outputs": [
    {
     "name": "stderr",
     "output_type": "stream",
     "text": [
      "Executing Pipeline:   0%|          | 0/357 [00:00<?, ? Samples/s]"
     ]
    },
    {
     "name": "stdout",
     "output_type": "stream",
     "text": [
      "Initialised with 500 image(s) found.\n",
      "Output directory set to /home/bhaven/Desktop/test/output."
     ]
    },
    {
     "name": "stderr",
     "output_type": "stream",
     "text": [
      "Processing <PIL.Image.Image image mode=RGB size=4752x3168 at 0x7FDEAC2F1110>: 100%|██████████| 357/357 [00:28<00:00, 12.52 Samples/s]\n"
     ]
    }
   ],
   "source": [
    "import Augmentor \n",
    "# Passing the path of the image directory \n",
    "p = Augmentor.Pipeline(\"/home/bhaven/Desktop/test\") \n",
    "  \n",
    "# Defining augmentation parameters and generating samples \n",
    "#p.flip_left_right(0.5) \n",
    "p.flip_random(1.0)\n",
    "#p.flip_top_bottom(0.5)\n",
    "p.sample(357) "
   ]
  }
 ],
 "metadata": {
  "kernelspec": {
   "display_name": "Python 3",
   "language": "python",
   "name": "python3"
  },
  "language_info": {
   "codemirror_mode": {
    "name": "ipython",
    "version": 3
   },
   "file_extension": ".py",
   "mimetype": "text/x-python",
   "name": "python",
   "nbconvert_exporter": "python",
   "pygments_lexer": "ipython3",
   "version": "3.7.4"
  }
 },
 "nbformat": 4,
 "nbformat_minor": 4
}
