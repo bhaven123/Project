{
 "cells": [
  {
   "cell_type": "code",
   "execution_count": 4,
   "metadata": {
    "scrolled": true
   },
   "outputs": [],
   "source": [
    "import cv2,glob,os\n",
    "inputFolder = 'D:\\\\Project\\\\Diabetic_Retinopathy\\\\Segregated_test\\\\0'\n",
    "outputFolder  = '0'\n",
    "if not os.path.exists(outputFolder):\n",
    "    os.mkdir(outputFolder) \n",
    "i = 0 \n",
    "for img in glob.glob(inputFolder + \"/*.jpeg\"):\n",
    "    image = cv2.imread(img) \n",
    "    imgResized = cv2.resize(image, (224,224)) \n",
    "   \n",
    "    i +=1 \n",
    "    cv2.imshow('image', imgResized) \n",
    "    cv2.waitKey(30) \n",
    "cv2.destroyAllWindows()"
   ]
  }
 ],
 "metadata": {
  "kernelspec": {
   "display_name": "Python 3",
   "language": "python",
   "name": "python3"
  },
  "language_info": {
   "codemirror_mode": {
    "name": "ipython",
    "version": 3
   },
   "file_extension": ".py",
   "mimetype": "text/x-python",
   "name": "python",
   "nbconvert_exporter": "python",
   "pygments_lexer": "ipython3",
   "version": "3.7.6"
  }
 },
 "nbformat": 4,
 "nbformat_minor": 4
}
