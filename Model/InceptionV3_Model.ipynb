{
 "cells": [
  {
   "cell_type": "code",
   "execution_count": 1,
   "metadata": {
    "colab": {
     "base_uri": "https://localhost:8080/",
     "height": 34
    },
    "colab_type": "code",
    "id": "bad2N-Z115W1",
    "outputId": "b7c53e3f-d8a4-42ee-de14-94abac1fd90b"
   },
   "outputs": [
    {
     "name": "stdout",
     "output_type": "stream",
     "text": [
      "TensorFlow version: 2.1.0\n"
     ]
    }
   ],
   "source": [
    "# Importing required libraries\n",
    "import tensorflow as tf\n",
    "import numpy as np\n",
    "import os\n",
    "import matplotlib.pyplot as plt\n",
    "%matplotlib inline\n",
    "print (\"TensorFlow version: \" + tf.__version__)"
   ]
  },
  {
   "cell_type": "code",
   "execution_count": 2,
   "metadata": {
    "colab": {
     "base_uri": "https://localhost:8080/",
     "height": 991
    },
    "colab_type": "code",
    "id": "VivWrFNpT9Aq",
    "outputId": "57538717-ee48-4b02-94b1-5ce23e01554a"
   },
   "outputs": [],
   "source": [
    "# Importing the Model\n",
    "model = tf.keras.applications.InceptionV3(include_top=False, weights='imagenet', input_tensor=tf.keras.Input(shape=(224,224,3)))"
   ]
  },
  {
   "cell_type": "code",
   "execution_count": 3,
   "metadata": {},
   "outputs": [],
   "source": [
    "# Freezing layers for Fine Tuning\n",
    "for layer in model.layers:\n",
    "\tlayer.trainable = False"
   ]
  },
  {
   "cell_type": "code",
   "execution_count": 4,
   "metadata": {},
   "outputs": [],
   "source": [
    "# Manipulating layers for custom classes\n",
    "x = model.output\n",
    "x = tf.keras.layers.GlobalAveragePooling2D()(x)\n",
    "x = tf.keras.layers.Dropout(0.5, name='drop0')(x)\n",
    "x = tf.keras.layers.Flatten(name='flatten')(x)\n",
    "x = tf.keras.layers.Dense(1024, activation=tf.nn.relu, name=\"fc1\")(x)\n",
    "x = tf.keras.layers.Dropout(0.5, name=\"drop1\")(x)\n",
    "x = tf.keras.layers.Dense(1024, activation=tf.nn.relu, name='fc2')(x)\n",
    "x = tf.keras.layers.Dropout(0.5, name='drop2')(x)\n",
    "x = tf.keras.layers.Dense(5, activation=tf.nn.softmax, name='predictions')(x)\n",
    "custom_model = tf.keras.Model(inputs=model.input, outputs=x)"
   ]
  },
  {
   "cell_type": "code",
   "execution_count": 5,
   "metadata": {},
   "outputs": [],
   "source": [
    "# # Visualizing Model Summary\n",
    "# custom_model.summary()"
   ]
  },
  {
   "cell_type": "code",
   "execution_count": 6,
   "metadata": {
    "colab": {},
    "colab_type": "code",
    "id": "CWrVGANK4m2s"
   },
   "outputs": [],
   "source": [
    "# Visualizing Model Architecture\n",
    "# tf.keras.utils.plot_model(custom_model,'model.png')"
   ]
  },
  {
   "cell_type": "code",
   "execution_count": 7,
   "metadata": {},
   "outputs": [
    {
     "name": "stdout",
     "output_type": "stream",
     "text": [
      "Found 96786 images belonging to 5 classes.\n",
      "Found 32259 images belonging to 5 classes.\n",
      "Found 53576 images belonging to 5 classes.\n"
     ]
    }
   ],
   "source": [
    "# Preparing Training, Validation and Testing Data\n",
    "train_datagen = tf.keras.preprocessing.image.ImageDataGenerator(rescale=1./255, validation_split=0.25)\n",
    "# , zoom_range=0.2, shear_range=0.2, rotation_range=45, horizontal_flip=True, width_shift_range=.15, height_shift_range=.15)\n",
    "train_generator = train_datagen.flow_from_directory('/home/bhaven/Downloads/dataset/resized_hundred', batch_size=64, target_size=(224, 224), class_mode='sparse', subset='training', shuffle=True)\n",
    "validation_generator = train_datagen.flow_from_directory('/home/bhaven/Downloads/dataset/resized_hundred', batch_size=64, target_size=(224, 224), class_mode='sparse', subset='validation', shuffle=True)\n",
    "test_datagen = tf.keras.preprocessing.image.ImageDataGenerator(rescale=1./255)\n",
    "test_generator = test_datagen.flow_from_directory('/home/bhaven/Downloads/dataset/resized_uneven_test', target_size=(224,224), batch_size=50, class_mode ='sparse', shuffle=True)"
   ]
  },
  {
   "cell_type": "code",
   "execution_count": 8,
   "metadata": {},
   "outputs": [],
   "source": [
    "# Compiling the Model with RMSprop\n",
    "custom_model.compile(loss=tf.keras.losses.SparseCategoricalCrossentropy(name='sparse_categorical_crossentropy'), optimizer=tf.keras.optimizers.RMSprop(name='RMSprop'), metrics=['accuracy'])"
   ]
  },
  {
   "cell_type": "code",
   "execution_count": 9,
   "metadata": {},
   "outputs": [
    {
     "name": "stdout",
     "output_type": "stream",
     "text": [
      "WARNING:tensorflow:sample_weight modes were coerced from\n",
      "  ...\n",
      "    to  \n",
      "  ['...']\n",
      "WARNING:tensorflow:sample_weight modes were coerced from\n",
      "  ...\n",
      "    to  \n",
      "  ['...']\n",
      "Train for 1513 steps, validate for 505 steps\n",
      "Epoch 1/5\n",
      "1513/1513 [==============================] - 652s 431ms/step - loss: 1.2842 - accuracy: 0.4664 - val_loss: 1.2244 - val_accuracy: 0.4822\n",
      "Epoch 2/5\n",
      "1513/1513 [==============================] - 641s 424ms/step - loss: 1.1903 - accuracy: 0.5115 - val_loss: 1.3418 - val_accuracy: 0.4379\n",
      "Epoch 3/5\n",
      "1513/1513 [==============================] - 642s 425ms/step - loss: 1.1715 - accuracy: 0.5222 - val_loss: 1.3475 - val_accuracy: 0.4634\n",
      "Epoch 4/5\n",
      "1513/1513 [==============================] - 645s 427ms/step - loss: 1.1570 - accuracy: 0.5298 - val_loss: 1.3803 - val_accuracy: 0.4495\n",
      "Epoch 5/5\n",
      "1513/1513 [==============================] - 645s 426ms/step - loss: 1.1517 - accuracy: 0.5361 - val_loss: 1.4546 - val_accuracy: 0.4162\n"
     ]
    },
    {
     "data": {
      "text/plain": [
       "<tensorflow.python.keras.callbacks.History at 0x7fd28ce0bbd0>"
      ]
     },
     "execution_count": 9,
     "metadata": {},
     "output_type": "execute_result"
    }
   ],
   "source": [
    "custom_model.fit(train_generator, epochs=5, validation_data=validation_generator)"
   ]
  },
  {
   "cell_type": "code",
   "execution_count": 10,
   "metadata": {},
   "outputs": [],
   "source": [
    "## Visualizing layers to see which layers to freeze\n",
    "# for i, layer in enumerate(model.layers):\n",
    "#     print(i, layer.name)"
   ]
  },
  {
   "cell_type": "code",
   "execution_count": 11,
   "metadata": {},
   "outputs": [],
   "source": [
    "# Freezing first 249 layers and unfreezing the rest\n",
    "for layer in custom_model.layers[:249]:\n",
    "    layer.trainable = False\n",
    "for layer in custom_model.layers[249:]:\n",
    "    layer.trainable = True"
   ]
  },
  {
   "cell_type": "code",
   "execution_count": 12,
   "metadata": {
    "colab": {},
    "colab_type": "code",
    "id": "7or6AE4DloTf",
    "pycharm": {
     "is_executing": false,
     "name": "#%%\n"
    }
   },
   "outputs": [],
   "source": [
    "# Reompiling the Model with Adam\n",
    "custom_model.compile(loss=tf.keras.losses.SparseCategoricalCrossentropy(name='sparse_categorical_crossentropy'), optimizer=tf.keras.optimizers.SGD(learning_rate=.0001, name='SGD', momentum=0.9), metrics=['accuracy'])"
   ]
  },
  {
   "cell_type": "code",
   "execution_count": 13,
   "metadata": {},
   "outputs": [],
   "source": [
    "## Saving Model Checkpoints\n",
    "# checkpoint_path = \"training_1/cp-{epoch:04d}.ckpt\"\n",
    "# checkpoint_dir = os.path.dirname(checkpoint_path)\n",
    "\n",
    "# cp_callback = tf.keras.callbacks.ModelCheckpoint(\n",
    "#     checkpoint_path, monitor='val_accuracy', verbose=0, save_best_only=False,\n",
    "#     save_weights_only=False, mode='auto', save_freq='epoch')"
   ]
  },
  {
   "cell_type": "code",
   "execution_count": null,
   "metadata": {
    "colab": {
     "base_uri": "https://localhost:8080/",
     "height": 306
    },
    "colab_type": "code",
    "id": "0zVCbPUwloTj",
    "outputId": "682968dc-3239-4d87-dd88-699243bb2e43",
    "pycharm": {
     "is_executing": false,
     "name": "#%%\n"
    },
    "scrolled": true
   },
   "outputs": [
    {
     "name": "stdout",
     "output_type": "stream",
     "text": [
      "WARNING:tensorflow:sample_weight modes were coerced from\n",
      "  ...\n",
      "    to  \n",
      "  ['...']\n",
      "WARNING:tensorflow:sample_weight modes were coerced from\n",
      "  ...\n",
      "    to  \n",
      "  ['...']\n",
      "Train for 1513 steps, validate for 505 steps\n",
      "Epoch 1/5\n",
      "1513/1513 [==============================] - 736s 486ms/step - loss: 1.0487 - accuracy: 0.5780 - val_loss: 1.2726 - val_accuracy: 0.4930\n",
      "Epoch 2/5\n",
      "1513/1513 [==============================] - 726s 480ms/step - loss: 0.9470 - accuracy: 0.6179 - val_loss: 1.2761 - val_accuracy: 0.4899\n",
      "Epoch 3/5\n",
      " 127/1513 [=>............................] - ETA: 8:51 - loss: 0.8775 - accuracy: 0.6425"
     ]
    }
   ],
   "source": [
    "# Training the Model\n",
    "history = custom_model.fit(train_generator, epochs=5, validation_data=validation_generator)"
   ]
  },
  {
   "cell_type": "code",
   "execution_count": null,
   "metadata": {},
   "outputs": [],
   "source": [
    "# Calculating Model Test Score\n",
    "score = custom_model.evaluate(test_generator, verbose=1)\n",
    "print('Test accuracy:', 100*score[1])\n",
    "print('\\nTest loss:', score[0])"
   ]
  },
  {
   "cell_type": "code",
   "execution_count": null,
   "metadata": {},
   "outputs": [],
   "source": [
    "# Visualizing Training and Test attributes\n",
    "train_loss = history.history['loss']\n",
    "val_loss = history.history['val_loss']\n",
    "train_acc = history.history['accuracy']\n",
    "val_acc = history.history['val_accuracy']\n",
    "\n",
    "plt.style.use('ggplot')\n",
    "plt.figure(figsize=(20,5))\n",
    "plt.subplot(1,2,1)\n",
    "plt.plot(train_loss,label='Training Loss')\n",
    "plt.plot(val_loss,label='Validation Loss')\n",
    "plt.ylabel('Loss')\n",
    "plt.xlabel('Epochs')\n",
    "plt.title('train_loss and val_loss')\n",
    "plt.legend(loc='upper right')\n",
    "\n",
    "plt.subplot(1,2,2)\n",
    "plt.plot(train_acc,label='Training Accuracy')\n",
    "plt.plot(val_acc,label='Validation Accuracy')\n",
    "plt.ylabel('Accuracy')\n",
    "plt.xlabel('Epochs')\n",
    "plt.title('train_acc and val_acc')\n",
    "plt.legend(loc='lower right')"
   ]
  },
  {
   "cell_type": "code",
   "execution_count": null,
   "metadata": {
    "colab": {},
    "colab_type": "code",
    "id": "B5B6b0YrloTn"
   },
   "outputs": [],
   "source": [
    "# Saving Model\n",
    "custom_model.save('/home/bhaven/Downloads/Models/diabetic.h5')\n",
    "\n",
    "# architecture to JSON, weights to HDF5\n",
    "custom_model.save_weights('/home/bhaven/Downloads/Models/weights.h5')\n",
    "with open('/home/bhaven/Downloads/Models/architecture.json', 'w') as f:\n",
    "        f.write(custom_model.to_json())"
   ]
  },
  {
   "cell_type": "code",
   "execution_count": null,
   "metadata": {
    "colab": {},
    "colab_type": "code",
    "id": "eIilDgDyloTr"
   },
   "outputs": [],
   "source": [
    "# Loading Saved Model\n",
    "# architecture and weights from HDF5\n",
    "model = tf.keras.models.load_model('/home/bhaven/Downloads/Models/diabetic.h5')\n",
    "# architecture from JSON, weights from HDF5\n",
    "with open('/home/bhaven/Downloads/Models/architecture.json') as f:\n",
    "    model = tf.keras.models.model_from_json(f.read())\n",
    "model.load_weights('/home/bhaven/Downloads/Models/weights.h5')"
   ]
  },
  {
   "cell_type": "code",
   "execution_count": null,
   "metadata": {},
   "outputs": [],
   "source": [
    "# Getting test batch and label batch\n",
    "for image_batch, label_batch in test_generator:\n",
    "    print(\"Image batch shape: \", image_batch.shape)\n",
    "    print(\"Label batch shape: \", label_batch.shape)\n",
    "    break\n",
    "# CLASS_NAMES = np.array(['0','1','2','3','4'])\n",
    "label_batch.astype(int)"
   ]
  },
  {
   "cell_type": "code",
   "execution_count": null,
   "metadata": {
    "colab": {},
    "colab_type": "code",
    "id": "_kdVA030loT3"
   },
   "outputs": [],
   "source": [
    "# Predicting test batch\n",
    "prediction = model.predict(image_batch)"
   ]
  },
  {
   "cell_type": "code",
   "execution_count": null,
   "metadata": {},
   "outputs": [],
   "source": [
    "# Visualizing Predictions\n",
    "plt.figure(figsize=(25,50))\n",
    "plt.style.use('ggplot')\n",
    "for n in range(test_generator.batch_size):\n",
    "    ax = plt.subplot(17,3,n+1)\n",
    "    plt.imshow(image_batch[n])\n",
    "    plt.title(\"Lvl {}=>Lvl 0={:.0f}%, Lvl 1={:.0f}%, Lvl 2={:.0f}%, Lvl 3={:.0f}%, Lvl 4={:.0f}%\".format(label_batch[n].astype(int),100*prediction[n,0],100*prediction[n,1],100*prediction[n,2],100*prediction[n,3],100*prediction[n,4]))\n",
    "    plt.axis('off')\n",
    "# plt.savefig('pred.jpeg')"
   ]
  }
 ],
 "metadata": {
  "accelerator": "TPU",
  "colab": {
   "collapsed_sections": [],
   "name": "Keras_Model.ipynb",
   "provenance": [],
   "toc_visible": true
  },
  "kernelspec": {
   "display_name": "Python 3",
   "language": "python",
   "name": "python3"
  },
  "language_info": {
   "codemirror_mode": {
    "name": "ipython",
    "version": 3
   },
   "file_extension": ".py",
   "mimetype": "text/x-python",
   "name": "python",
   "nbconvert_exporter": "python",
   "pygments_lexer": "ipython3",
   "version": "3.7.7"
  },
  "pycharm": {
   "stem_cell": {
    "cell_type": "raw",
    "metadata": {
     "collapsed": false
    },
    "source": []
   }
  }
 },
 "nbformat": 4,
 "nbformat_minor": 4
}
